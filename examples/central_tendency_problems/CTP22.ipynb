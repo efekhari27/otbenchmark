{
 "cells": [
  {
   "cell_type": "markdown",
   "metadata": {},
   "source": [
    "# Central tendency analysis using RP22 function\n",
    "\n",
    "\n",
    "The objective of this example is to present a central tendency problem from the RP22 of the BBRC."
   ]
  },
  {
   "cell_type": "code",
   "execution_count": 1,
   "metadata": {},
   "outputs": [],
   "source": [
    "import sys\n",
    "sys.path.append('/home/elias/Documents/otbenchmark')"
   ]
  },
  {
   "cell_type": "code",
   "execution_count": 2,
   "metadata": {},
   "outputs": [],
   "source": [
    "import openturns as ot\n",
    "import numpy as np\n",
    "import otbenchmark as otb"
   ]
  },
  {
   "cell_type": "code",
   "execution_count": 3,
   "metadata": {},
   "outputs": [
    {
     "output_type": "stream",
     "name": "stdout",
     "text": [
      "name = CTP22\ncomposite random vector = class=CompositeRandomVector function=class=Function name=Unnamed implementation=class=FunctionImplementation name=Unnamed description=[x1,x2,y0] evaluationImplementation=class=SymbolicEvaluation name=Unnamed inputVariablesNames=[x1,x2] outputVariablesNames=[y0] formulas=[2.5 - 1 / sqrt(2) * (x1 + x2) + 0.1 * (x1 - x2) ^2] gradientImplementation=class=SymbolicGradient name=Unnamed evaluation=class=SymbolicEvaluation name=Unnamed inputVariablesNames=[x1,x2] outputVariablesNames=[y0] formulas=[2.5 - 1 / sqrt(2) * (x1 + x2) + 0.1 * (x1 - x2) ^2] hessianImplementation=class=SymbolicHessian name=Unnamed evaluation=class=SymbolicEvaluation name=Unnamed inputVariablesNames=[x1,x2] outputVariablesNames=[y0] formulas=[2.5 - 1 / sqrt(2) * (x1 + x2) + 0.1 * (x1 - x2) ^2] antecedent=class=UsualRandomVector distribution=class=ComposedDistribution name=ComposedDistribution dimension=2 copula=class=IndependentCopula name=IndependentCopula dimension=2 marginal[0]=class=Normal name=Normal dimension=1 mean=class=Point name=Unnamed dimension=1 values=[0.5] sigma=class=Point name=Unnamed dimension=1 values=[0.15] correlationMatrix=class=CorrelationMatrix dimension=1 implementation=class=MatrixImplementation name=Unnamed rows=1 columns=1 values=[1] marginal[1]=class=Normal name=Normal dimension=1 mean=class=Point name=Unnamed dimension=1 values=[0.5] sigma=class=Point name=Unnamed dimension=1 values=[0.15] correlationMatrix=class=CorrelationMatrix dimension=1 implementation=class=MatrixImplementation name=Unnamed rows=1 columns=1 values=[1]\nmean = 1.7928932188134525\nstandard deviation = 0.15006748481933052\n\n"
     ]
    }
   ],
   "source": [
    "problem = otb.CentralTendencyProblem22()\n",
    "print(problem)"
   ]
  },
  {
   "cell_type": "code",
   "execution_count": 4,
   "metadata": {},
   "outputs": [
    {
     "output_type": "execute_result",
     "data": {
      "text/plain": [
       "1.7928932188134525"
      ]
     },
     "metadata": {},
     "execution_count": 4
    }
   ],
   "source": [
    "problem.getMean()"
   ]
  },
  {
   "cell_type": "code",
   "execution_count": 5,
   "metadata": {},
   "outputs": [
    {
     "output_type": "execute_result",
     "data": {
      "text/plain": [
       "0.15006748481933052"
      ]
     },
     "metadata": {},
     "execution_count": 5
    }
   ],
   "source": [
    "problem.getStd()"
   ]
  },
  {
   "cell_type": "code",
   "execution_count": 6,
   "metadata": {},
   "outputs": [
    {
     "output_type": "execute_result",
     "data": {
      "text/plain": [
       "class=Function name=Unnamed implementation=class=FunctionImplementation name=Unnamed description=[x1,x2,y0] evaluationImplementation=class=SymbolicEvaluation name=Unnamed inputVariablesNames=[x1,x2] outputVariablesNames=[y0] formulas=[2.5 - 1 / sqrt(2) * (x1 + x2) + 0.1 * (x1 - x2) ^2] gradientImplementation=class=SymbolicGradient name=Unnamed evaluation=class=SymbolicEvaluation name=Unnamed inputVariablesNames=[x1,x2] outputVariablesNames=[y0] formulas=[2.5 - 1 / sqrt(2) * (x1 + x2) + 0.1 * (x1 - x2) ^2] hessianImplementation=class=SymbolicHessian name=Unnamed evaluation=class=SymbolicEvaluation name=Unnamed inputVariablesNames=[x1,x2] outputVariablesNames=[y0] formulas=[2.5 - 1 / sqrt(2) * (x1 + x2) + 0.1 * (x1 - x2) ^2]"
      ],
      "text/html": "<p>[x1,x2]->[2.5 - 1 / sqrt(2) * (x1 + x2) + 0.1 * (x1 - x2) ^2]</p>"
     },
     "metadata": {},
     "execution_count": 6
    }
   ],
   "source": [
    "compositeRV = problem.compositeRandomVector\n",
    "function = compositeRV.getFunction()\n",
    "function"
   ]
  },
  {
   "cell_type": "code",
   "execution_count": 7,
   "metadata": {},
   "outputs": [
    {
     "output_type": "execute_result",
     "data": {
      "text/plain": [
       "class=ComposedDistribution name=ComposedDistribution dimension=2 copula=class=IndependentCopula name=IndependentCopula dimension=2 marginal[0]=class=Normal name=Normal dimension=1 mean=class=Point name=Unnamed dimension=1 values=[0.5] sigma=class=Point name=Unnamed dimension=1 values=[0.15] correlationMatrix=class=CorrelationMatrix dimension=1 implementation=class=MatrixImplementation name=Unnamed rows=1 columns=1 values=[1] marginal[1]=class=Normal name=Normal dimension=1 mean=class=Point name=Unnamed dimension=1 values=[0.5] sigma=class=Point name=Unnamed dimension=1 values=[0.15] correlationMatrix=class=CorrelationMatrix dimension=1 implementation=class=MatrixImplementation name=Unnamed rows=1 columns=1 values=[1]"
      ],
      "text/html": "<p>ComposedDistribution(Normal(mu = 0.5, sigma = 0.15), Normal(mu = 0.5, sigma = 0.15), IndependentCopula(dimension = 2))</p>"
     },
     "metadata": {},
     "execution_count": 7
    }
   ],
   "source": [
    "distribution = compositeRV.getAntecedent().getDistribution()\n",
    "distribution"
   ]
  },
  {
   "cell_type": "code",
   "execution_count": null,
   "metadata": {},
   "outputs": [],
   "source": []
  }
 ],
 "metadata": {
  "kernelspec": {
   "display_name": "Python 3.6.13 64-bit ('otb_dev': conda)",
   "language": "python",
   "name": "python361364bitotbdevcondabff1b10cf6ce42d3bd67b1b87a82104f"
  },
  "language_info": {
   "codemirror_mode": {
    "name": "ipython",
    "version": 3
   },
   "file_extension": ".py",
   "mimetype": "text/x-python",
   "name": "python",
   "nbconvert_exporter": "python",
   "pygments_lexer": "ipython3",
   "version": "3.6.13-final"
  }
 },
 "nbformat": 4,
 "nbformat_minor": 2
}