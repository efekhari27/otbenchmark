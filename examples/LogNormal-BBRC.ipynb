{
 "cells": [
  {
   "cell_type": "markdown",
   "metadata": {},
   "source": [
    "# Analysis of the LogNormal distribution in the BBRC\n",
    "\n",
    "The goal of this document is to clarify the parametrization of the LogNormal distribution in the BBRC.\n",
    "\n",
    "## From the RPREPO\n",
    "\n",
    "https://rprepo.readthedocs.io/en/latest/distributions.html#sec-lognormal\n",
    "\n",
    "* Type \t: univariate, continuous\n",
    "* Support \t: $x\\in(0,\\infty)$\n",
    "* Parameter : $\\theta_1=\\mu \\in (−\\infty,\\infty)$, shape\n",
    "* Parameter : $\\theta_2=\\sigma \\in (0,\\infty)$, scale \n",
    "* Mean \t: $e^{\\mu+\\frac{\\sigma^2}{2}}$ \n",
    "* Variance \t: $\\left(e^{\\sigma^2} - 1\\right) e^{2\\mu + \\sigma^2}$\n",
    "\n",
    "$$\n",
    "f(x) = \\frac{1}{x} \\frac{1}{\\sigma \\sqrt{2\\pi}} \\exp\\left(-\\frac{\\left(\\ln(x) - \\mu\\right)^2}{2 \\sigma^2}\\right)\n",
    "$$\n",
    "\n",
    "From this description we see that :\n",
    "* $\\theta_1$ is the mean of the underlying gaussian and $\\theta_2$ is the standard deviation of the underlying gaussian\n",
    "* Mean is the Mean of the LogNormal random variable and Std is the standard deviation of the LogNormal random variable.\n",
    "\n",
    "## From OpenTURNS\n",
    "\n",
    "* http://openturns.github.io/openturns/master/user_manual/_generated/openturns.LogNormal.html\n",
    "* http://openturns.github.io/openturns/master/user_manual/_generated/openturns.LogNormalMuSigma.html\n",
    "\n",
    "One of the two following parametrizations must be chosen.\n",
    "* `LogNormal` with $\\mu_\\ell=\\theta_1, \\sigma_\\ell=\\theta_2$ where $\\theta_1$ is the mean of the underlying gaussian and $\\theta_2$ is the standard deviation of the underlying gaussian\n",
    "\n",
    "* `LogNormalMuSigma` with Mean, Std where Mean is the Mean of the LogNormal random variable and Std is the standard deviation of the LogNormal random variable.\n",
    "\n",
    "## Problem\n",
    "\n",
    "The problem is to select the parametrization that best corresponds to the problem and the data. The goal of this document is to make this selection clearer."
   ]
  },
  {
   "cell_type": "code",
   "execution_count": 1,
   "metadata": {},
   "outputs": [],
   "source": [
    "import openturns as ot\n",
    "import numpy as np"
   ]
  },
  {
   "cell_type": "code",
   "execution_count": 2,
   "metadata": {},
   "outputs": [
    {
     "data": {
      "text/plain": [
       "'1.15rc1'"
      ]
     },
     "execution_count": 2,
     "metadata": {},
     "output_type": "execute_result"
    }
   ],
   "source": [
    "ot.__version__"
   ]
  },
  {
   "cell_type": "markdown",
   "metadata": {},
   "source": [
    "## RP60"
   ]
  },
  {
   "cell_type": "markdown",
   "metadata": {},
   "source": [
    "https://rprepo.readthedocs.io/en/latest/reliability_problems.html#rp60"
   ]
  },
  {
   "cell_type": "markdown",
   "metadata": {},
   "source": [
    "### RP60 with LogNormalMuSigma"
   ]
  },
  {
   "cell_type": "code",
   "execution_count": 3,
   "metadata": {},
   "outputs": [],
   "source": [
    "Mean = 2200.0\n",
    "Std = 220.0\n",
    "parameters = ot.LogNormalMuSigma(Mean, Std)"
   ]
  },
  {
   "cell_type": "code",
   "execution_count": 4,
   "metadata": {},
   "outputs": [],
   "source": [
    "X = ot.ParametrizedDistribution(parameters)"
   ]
  },
  {
   "cell_type": "code",
   "execution_count": 5,
   "metadata": {},
   "outputs": [
    {
     "data": {
      "text/html": [
       "<p>[2200]</p>"
      ],
      "text/plain": [
       "class=Point name=Unnamed dimension=1 values=[2200]"
      ]
     },
     "execution_count": 5,
     "metadata": {},
     "output_type": "execute_result"
    }
   ],
   "source": [
    "X.getMean()"
   ]
  },
  {
   "cell_type": "code",
   "execution_count": 6,
   "metadata": {
    "scrolled": false
   },
   "outputs": [
    {
     "data": {
      "text/html": [
       "<p>[220]</p>"
      ],
      "text/plain": [
       "class=Point name=Unnamed dimension=1 values=[220]"
      ]
     },
     "execution_count": 6,
     "metadata": {},
     "output_type": "execute_result"
    }
   ],
   "source": [
    "X.getStandardDeviation()"
   ]
  },
  {
   "cell_type": "markdown",
   "metadata": {},
   "source": [
    "### RP60 with LogNormal"
   ]
  },
  {
   "cell_type": "code",
   "execution_count": 7,
   "metadata": {},
   "outputs": [
    {
     "data": {
      "text/html": [
       "<p>LogNormal(muLog = 7.691, sigmaLog = 0.09975, gamma = 0)</p>"
      ],
      "text/plain": [
       "class=LogNormal name=LogNormal dimension=1 muLog=7.691 sigmaLog=0.09975 gamma=0"
      ]
     },
     "execution_count": 7,
     "metadata": {},
     "output_type": "execute_result"
    }
   ],
   "source": [
    "theta1 = 7.691\n",
    "theta2 = 0.09975\n",
    "X = ot.LogNormal(7.691, 0.09975, 0.0)\n",
    "X"
   ]
  },
  {
   "cell_type": "code",
   "execution_count": 8,
   "metadata": {},
   "outputs": [
    {
     "data": {
      "text/html": [
       "<p>[2199.48]</p>"
      ],
      "text/plain": [
       "class=Point name=Unnamed dimension=1 values=[2199.48]"
      ]
     },
     "execution_count": 8,
     "metadata": {},
     "output_type": "execute_result"
    }
   ],
   "source": [
    "X.getMean()"
   ]
  },
  {
   "cell_type": "code",
   "execution_count": 9,
   "metadata": {},
   "outputs": [
    {
     "data": {
      "text/html": [
       "<p>[219.945]</p>"
      ],
      "text/plain": [
       "class=Point name=Unnamed dimension=1 values=[219.945]"
      ]
     },
     "execution_count": 9,
     "metadata": {},
     "output_type": "execute_result"
    }
   ],
   "source": [
    "X.getStandardDeviation()"
   ]
  },
  {
   "cell_type": "markdown",
   "metadata": {},
   "source": [
    "## RP8\n",
    "\n",
    "https://rprepo.readthedocs.io/en/latest/reliability_problems.html#rp8"
   ]
  },
  {
   "cell_type": "markdown",
   "metadata": {},
   "source": [
    "### RP8 with LogNormalMuSigma"
   ]
  },
  {
   "cell_type": "code",
   "execution_count": 10,
   "metadata": {},
   "outputs": [
    {
     "data": {
      "text/html": [
       "<p>LogNormalMuSigma(mu = 120, sigma = 12, gamma = 0)</p>"
      ],
      "text/plain": [
       "class=LogNormalMuSigma name=Unnamed mu=120 sigma=12 gamma=0"
      ]
     },
     "execution_count": 10,
     "metadata": {},
     "output_type": "execute_result"
    }
   ],
   "source": [
    "Mean = 120.0\n",
    "Std = 12.0\n",
    "parameters = ot.LogNormalMuSigma(Mean, Std)\n",
    "parameters"
   ]
  },
  {
   "cell_type": "code",
   "execution_count": 11,
   "metadata": {},
   "outputs": [
    {
     "data": {
      "text/html": [
       "<p>class=ParametrizedDistribution parameters=class=LogNormalMuSigma name=Unnamed mu=120 sigma=12 gamma=0 distribution=class=LogNormal name=LogNormal dimension=1 muLog=4.78252 sigmaLog=0.0997513 gamma=0</p>"
      ],
      "text/plain": [
       "class=ParametrizedDistribution parameters=class=LogNormalMuSigma name=Unnamed mu=120 sigma=12 gamma=0 distribution=class=LogNormal name=LogNormal dimension=1 muLog=4.78252 sigmaLog=0.0997513 gamma=0"
      ]
     },
     "execution_count": 11,
     "metadata": {},
     "output_type": "execute_result"
    }
   ],
   "source": [
    "X = ot.ParametrizedDistribution(parameters)\n",
    "X"
   ]
  },
  {
   "cell_type": "code",
   "execution_count": 12,
   "metadata": {},
   "outputs": [
    {
     "data": {
      "text/html": [
       "<p>[120]</p>"
      ],
      "text/plain": [
       "class=Point name=Unnamed dimension=1 values=[120]"
      ]
     },
     "execution_count": 12,
     "metadata": {},
     "output_type": "execute_result"
    }
   ],
   "source": [
    "X.getMean()"
   ]
  },
  {
   "cell_type": "code",
   "execution_count": 13,
   "metadata": {
    "scrolled": false
   },
   "outputs": [
    {
     "data": {
      "text/html": [
       "<p>[12]</p>"
      ],
      "text/plain": [
       "class=Point name=Unnamed dimension=1 values=[12]"
      ]
     },
     "execution_count": 13,
     "metadata": {},
     "output_type": "execute_result"
    }
   ],
   "source": [
    "X.getStandardDeviation()"
   ]
  },
  {
   "cell_type": "markdown",
   "metadata": {},
   "source": [
    "### RP8 with LogNormal"
   ]
  },
  {
   "cell_type": "code",
   "execution_count": 14,
   "metadata": {},
   "outputs": [
    {
     "data": {
      "text/html": [
       "<p>LogNormal(muLog = 4.783, sigmaLog = 0.09975, gamma = 0)</p>"
      ],
      "text/plain": [
       "class=LogNormal name=LogNormal dimension=1 muLog=4.783 sigmaLog=0.09975 gamma=0"
      ]
     },
     "execution_count": 14,
     "metadata": {},
     "output_type": "execute_result"
    }
   ],
   "source": [
    "theta1 = 4.783\n",
    "theta2 = 0.09975\n",
    "X = ot.LogNormal(4.783, 0.09975, 0.0)\n",
    "X"
   ]
  },
  {
   "cell_type": "code",
   "execution_count": 15,
   "metadata": {},
   "outputs": [
    {
     "data": {
      "text/html": [
       "<p>[120.058]</p>"
      ],
      "text/plain": [
       "class=Point name=Unnamed dimension=1 values=[120.058]"
      ]
     },
     "execution_count": 15,
     "metadata": {},
     "output_type": "execute_result"
    }
   ],
   "source": [
    "X.getMean()"
   ]
  },
  {
   "cell_type": "code",
   "execution_count": 16,
   "metadata": {},
   "outputs": [
    {
     "data": {
      "text/html": [
       "<p>[12.0056]</p>"
      ],
      "text/plain": [
       "class=Point name=Unnamed dimension=1 values=[12.0056]"
      ]
     },
     "execution_count": 16,
     "metadata": {},
     "output_type": "execute_result"
    }
   ],
   "source": [
    "X.getStandardDeviation()"
   ]
  },
  {
   "cell_type": "markdown",
   "metadata": {},
   "source": [
    "## Conclusion\n",
    "\n",
    "We see that in the RP60 and RP8 problems, the Mean and Std parameters are exact while $\\theta_1$ and $\\theta_2$ are given with 4 significant digits. This leads to an approximation if the $\\theta_1$ and $\\theta_2$ parameters are used. \n",
    "\n",
    "This is why we choose the Mean and Std parameters as the parametrization for the BBRC.\n",
    "This corresponds to the following code and comments :"
   ]
  },
  {
   "cell_type": "code",
   "execution_count": 17,
   "metadata": {},
   "outputs": [],
   "source": [
    "Mean = 120.0\n",
    "Std = 12.0\n",
    "parameters = ot.LogNormalMuSigma(Mean, Std)\n",
    "X = ot.ParametrizedDistribution(parameters)"
   ]
  },
  {
   "cell_type": "markdown",
   "metadata": {},
   "source": [
    "* Mean is the Mean of the LogNormal random variable\n",
    "* Std is the standard deviation of the LogNormal random variable."
   ]
  }
 ],
 "metadata": {
  "kernelspec": {
   "display_name": "Python 3",
   "language": "python",
   "name": "python3"
  },
  "language_info": {
   "codemirror_mode": {
    "name": "ipython",
    "version": 3
   },
   "file_extension": ".py",
   "mimetype": "text/x-python",
   "name": "python",
   "nbconvert_exporter": "python",
   "pygments_lexer": "ipython3",
   "version": "3.7.4"
  }
 },
 "nbformat": 4,
 "nbformat_minor": 2
}
