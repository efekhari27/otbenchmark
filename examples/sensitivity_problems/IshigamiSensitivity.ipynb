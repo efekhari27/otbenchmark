{
 "cells": [
  {
   "cell_type": "markdown",
   "metadata": {},
   "source": [
    "# Benchmark the Ishigami test function"
   ]
  },
  {
   "cell_type": "code",
   "execution_count": 1,
   "metadata": {},
   "outputs": [],
   "source": [
    "import openturns as ot\n",
    "import otbenchmark as otb"
   ]
  },
  {
   "cell_type": "code",
   "execution_count": 2,
   "metadata": {},
   "outputs": [],
   "source": [
    "problem = otb.IshigamiSensitivity()"
   ]
  },
  {
   "cell_type": "code",
   "execution_count": 3,
   "metadata": {},
   "outputs": [
    {
     "name": "stdout",
     "output_type": "stream",
     "text": [
      "name = Ishigami\n",
      "distribution = ComposedDistribution(Uniform(a = -3.14159, b = 3.14159), Uniform(a = -3.14159, b = 3.14159), Uniform(a = -3.14159, b = 3.14159), IndependentCopula(dimension = 3))\n",
      "function = ParametricEvaluation([X1,X2,X3,a,b]->[sin(X1) + a * sin(X2)^2 + b * X3^4 * sin(X1)], parameters positions=[3,4], parameters=[a : 7, b : 0.1], input positions=[0,1,2])\n",
      "firstOrderIndices = [0.313905,0.442411,0]\n",
      "totalOrderIndices = [0.557589,0.442411,0.243684]\n"
     ]
    }
   ],
   "source": [
    "print(problem)"
   ]
  },
  {
   "cell_type": "code",
   "execution_count": 4,
   "metadata": {},
   "outputs": [],
   "source": [
    "distribution = problem.getInputDistribution()\n",
    "model = problem.getFunction()"
   ]
  },
  {
   "cell_type": "code",
   "execution_count": 5,
   "metadata": {},
   "outputs": [
    {
     "data": {
      "text/html": [
       "<p>[0.313905,0.442411,0]</p>"
      ],
      "text/plain": [
       "class=Point name=Unnamed dimension=3 values=[0.313905,0.442411,0]"
      ]
     },
     "execution_count": 5,
     "metadata": {},
     "output_type": "execute_result"
    }
   ],
   "source": [
    "# Exact first and total order\n",
    "exact_first_order = problem.getFirstOrderIndices()\n",
    "exact_first_order"
   ]
  },
  {
   "cell_type": "code",
   "execution_count": 6,
   "metadata": {},
   "outputs": [
    {
     "data": {
      "text/html": [
       "<p>[0.557589,0.442411,0.243684]</p>"
      ],
      "text/plain": [
       "class=Point name=Unnamed dimension=3 values=[0.557589,0.442411,0.243684]"
      ]
     },
     "execution_count": 6,
     "metadata": {},
     "output_type": "execute_result"
    }
   ],
   "source": [
    "exact_total_order = problem.getTotalOrderIndices()\n",
    "exact_total_order"
   ]
  },
  {
   "cell_type": "code",
   "execution_count": 7,
   "metadata": {},
   "outputs": [],
   "source": [
    "# Create X/Y data\n",
    "ot.RandomGenerator.SetSeed(0)\n",
    "size = 10000\n",
    "inputDesign = ot.SobolIndicesExperiment(distribution, size, True).generate()\n",
    "outputDesign = model(inputDesign)"
   ]
  },
  {
   "cell_type": "code",
   "execution_count": 8,
   "metadata": {},
   "outputs": [],
   "source": [
    "# Compute first order indices using the Saltelli estimator\n",
    "sensitivityAnalysis = ot.SaltelliSensitivityAlgorithm(inputDesign, outputDesign, size)\n",
    "computed_first_order = sensitivityAnalysis.getFirstOrderIndices()\n",
    "computed_total_order = sensitivityAnalysis.getTotalOrderIndices()"
   ]
  },
  {
   "cell_type": "code",
   "execution_count": 9,
   "metadata": {},
   "outputs": [
    {
     "name": "stdout",
     "output_type": "stream",
     "text": [
      "Sample size :  10000\n",
      "Computed first order =  [0.302751,0.460825,0.00669407]\n",
      "Exact first order =  [0.313905,0.442411,0]\n",
      "Computed total order =  [0.57499,0.427147,0.256687]\n",
      "Exact total order =  [0.557589,0.442411,0.243684]\n"
     ]
    }
   ],
   "source": [
    "# Compare with exact results\n",
    "print(\"Sample size : \", size)\n",
    "# First order\n",
    "# Compute absolute error (the LRE cannot be computed,\n",
    "# because S can be zero)\n",
    "print(\"Computed first order = \", computed_first_order)\n",
    "print(\"Exact first order = \", exact_first_order)\n",
    "# Total order\n",
    "print(\"Computed total order = \", computed_total_order)\n",
    "print(\"Exact total order = \", exact_total_order)"
   ]
  },
  {
   "cell_type": "code",
   "execution_count": null,
   "metadata": {},
   "outputs": [],
   "source": []
  }
 ],
 "metadata": {
  "kernelspec": {
   "display_name": "Python 3",
   "language": "python",
   "name": "python3"
  },
  "language_info": {
   "codemirror_mode": {
    "name": "ipython",
    "version": 3
   },
   "file_extension": ".py",
   "mimetype": "text/x-python",
   "name": "python",
   "nbconvert_exporter": "python",
   "pygments_lexer": "ipython3",
   "version": "3.7.6"
  }
 },
 "nbformat": 4,
 "nbformat_minor": 2
}
