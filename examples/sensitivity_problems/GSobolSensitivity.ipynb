{
 "cells": [
  {
   "cell_type": "markdown",
   "metadata": {},
   "source": [
    "# Benchmark the G-Sobol test function"
   ]
  },
  {
   "cell_type": "code",
   "execution_count": 1,
   "metadata": {},
   "outputs": [],
   "source": [
    "import openturns as ot\n",
    "import otbenchmark as otb"
   ]
  },
  {
   "cell_type": "code",
   "execution_count": 2,
   "metadata": {},
   "outputs": [],
   "source": [
    "problem = otb.GSobolSensitivity()"
   ]
  },
  {
   "cell_type": "code",
   "execution_count": 3,
   "metadata": {},
   "outputs": [
    {
     "name": "stdout",
     "output_type": "stream",
     "text": [
      "name = GSobol\n",
      "distribution = ComposedDistribution(Uniform(a = 0, b = 1), Uniform(a = 0, b = 1), Uniform(a = 0, b = 1), IndependentCopula(dimension = 3))\n",
      "function = class=PythonEvaluation name=OpenTURNSPythonFunction\n",
      "firstOrderIndices = [0.986712,0.00986712,9.86712e-05]\n",
      "totalOrderIndices = [0.990034,0.0131566,0.000132]\n"
     ]
    }
   ],
   "source": [
    "print(problem)"
   ]
  },
  {
   "cell_type": "code",
   "execution_count": 4,
   "metadata": {},
   "outputs": [],
   "source": [
    "distribution = problem.getInputDistribution()\n",
    "model = problem.getFunction()"
   ]
  },
  {
   "cell_type": "code",
   "execution_count": 5,
   "metadata": {},
   "outputs": [
    {
     "data": {
      "text/html": [
       "<p>[0.986712,0.00986712,9.86712e-05]</p>"
      ],
      "text/plain": [
       "class=Point name=Unnamed dimension=3 values=[0.986712,0.00986712,9.86712e-05]"
      ]
     },
     "execution_count": 5,
     "metadata": {},
     "output_type": "execute_result"
    }
   ],
   "source": [
    "# Exact first and total order\n",
    "exact_first_order = problem.getFirstOrderIndices()\n",
    "exact_first_order"
   ]
  },
  {
   "cell_type": "code",
   "execution_count": 6,
   "metadata": {},
   "outputs": [
    {
     "data": {
      "text/html": [
       "<p>[0.990034,0.0131566,0.000132]</p>"
      ],
      "text/plain": [
       "class=Point name=Unnamed dimension=3 values=[0.990034,0.0131566,0.000132]"
      ]
     },
     "execution_count": 6,
     "metadata": {},
     "output_type": "execute_result"
    }
   ],
   "source": [
    "exact_total_order = problem.getTotalOrderIndices()\n",
    "exact_total_order"
   ]
  },
  {
   "cell_type": "code",
   "execution_count": 7,
   "metadata": {},
   "outputs": [],
   "source": [
    "# Create X/Y data\n",
    "ot.RandomGenerator.SetSeed(0)\n",
    "size = 10000\n",
    "inputDesign = ot.SobolIndicesExperiment(distribution, size, True).generate()\n",
    "outputDesign = model(inputDesign)"
   ]
  },
  {
   "cell_type": "code",
   "execution_count": 8,
   "metadata": {},
   "outputs": [],
   "source": [
    "# Compute first order indices using the Saltelli estimator\n",
    "sensitivityAnalysis = ot.SaltelliSensitivityAlgorithm(inputDesign, outputDesign, size)\n",
    "computed_first_order = sensitivityAnalysis.getFirstOrderIndices()\n",
    "computed_total_order = sensitivityAnalysis.getTotalOrderIndices()"
   ]
  },
  {
   "cell_type": "code",
   "execution_count": 9,
   "metadata": {},
   "outputs": [
    {
     "name": "stdout",
     "output_type": "stream",
     "text": [
      "Sample size :  10000\n",
      "Computed first order =  [0.978662,0.0214842,0.0124414]\n",
      "Exact first order =  [0.986712,0.00986712,9.86712e-05]\n",
      "Computed total order =  [0.979671,0.0104553,-4.13023e-05]\n",
      "Exact total order =  [0.990034,0.0131566,0.000132]\n"
     ]
    }
   ],
   "source": [
    "# Compare with exact results\n",
    "print(\"Sample size : \", size)\n",
    "# First order\n",
    "# Compute absolute error (the LRE cannot be computed,\n",
    "# because S can be zero)\n",
    "print(\"Computed first order = \", computed_first_order)\n",
    "print(\"Exact first order = \", exact_first_order)\n",
    "# Total order\n",
    "print(\"Computed total order = \", computed_total_order)\n",
    "print(\"Exact total order = \", exact_total_order)"
   ]
  },
  {
   "cell_type": "code",
   "execution_count": null,
   "metadata": {},
   "outputs": [],
   "source": []
  }
 ],
 "metadata": {
  "kernelspec": {
   "display_name": "Python 3",
   "language": "python",
   "name": "python3"
  },
  "language_info": {
   "codemirror_mode": {
    "name": "ipython",
    "version": 3
   },
   "file_extension": ".py",
   "mimetype": "text/x-python",
   "name": "python",
   "nbconvert_exporter": "python",
   "pygments_lexer": "ipython3",
   "version": "3.7.4"
  }
 },
 "nbformat": 4,
 "nbformat_minor": 2
}
