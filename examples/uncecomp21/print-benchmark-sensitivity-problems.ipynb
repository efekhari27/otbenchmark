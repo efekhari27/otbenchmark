{
 "cells": [
  {
   "cell_type": "markdown",
   "id": "fitted-recycling",
   "metadata": {},
   "source": [
    "# Print the sensitivity analysis problems\n",
    "\n",
    "In this example, we show how to print all the sensitivity analysis problems."
   ]
  },
  {
   "cell_type": "code",
   "execution_count": 1,
   "id": "institutional-flash",
   "metadata": {},
   "outputs": [],
   "source": [
    "import openturns as ot\n",
    "import numpy as np\n",
    "import otbenchmark as otb\n",
    "import pandas as pd"
   ]
  },
  {
   "cell_type": "markdown",
   "id": "deadly-muslim",
   "metadata": {},
   "source": [
    "We import the list of problems."
   ]
  },
  {
   "cell_type": "code",
   "execution_count": 2,
   "id": "desirable-practice",
   "metadata": {},
   "outputs": [
    {
     "data": {
      "text/plain": [
       "4"
      ]
     },
     "execution_count": 2,
     "metadata": {},
     "output_type": "execute_result"
    }
   ],
   "source": [
    "benchmarkProblemList = otb.SensitivityBenchmarkProblemList()\n",
    "numberOfProblems = len(benchmarkProblemList)\n",
    "numberOfProblems"
   ]
  },
  {
   "cell_type": "markdown",
   "id": "integrated-specific",
   "metadata": {},
   "source": [
    "For each problem in the benchmark, print the problem name and the exact failure probability."
   ]
  },
  {
   "cell_type": "code",
   "execution_count": 3,
   "id": "brave-durham",
   "metadata": {
    "scrolled": true
   },
   "outputs": [
    {
     "name": "stdout",
     "output_type": "stream",
     "text": [
      "# 0 : GaussianSum  : S =  [0.5,0.5] T= [0.5,0.5] , dimension= 2\n",
      "# 1 : GaussianProduct  : S =  [0,0] T= [1,1] , dimension= 2\n",
      "# 2 : GSobol  : S =  [0.986712,0.00986712,9.86712e-05] T= [0.990034,0.0131566,0.000132] , dimension= 3\n",
      "# 3 : Ishigami  : S =  [0.313905,0.442411,0] T= [0.557589,0.442411,0.243684] , dimension= 3\n"
     ]
    }
   ],
   "source": [
    "for i in range(numberOfProblems):\n",
    "    problem = benchmarkProblemList[i]\n",
    "    name = problem.getName()\n",
    "    first_order_indices = problem.getFirstOrderIndices()\n",
    "    total_order_indices = problem.getTotalOrderIndices()\n",
    "    dimension = problem.getInputDistribution().getDimension()\n",
    "    print(\n",
    "        \"#\",\n",
    "        i,\n",
    "        \":\",\n",
    "        name,\n",
    "        \" : S = \",\n",
    "        first_order_indices,\n",
    "        \"T=\",\n",
    "        total_order_indices,\n",
    "        \", dimension=\",\n",
    "        dimension,\n",
    "    )"
   ]
  },
  {
   "cell_type": "code",
   "execution_count": 4,
   "id": "pointed-philippines",
   "metadata": {},
   "outputs": [
    {
     "data": {
      "text/html": [
       "<div>\n",
       "<style scoped>\n",
       "    .dataframe tbody tr th:only-of-type {\n",
       "        vertical-align: middle;\n",
       "    }\n",
       "\n",
       "    .dataframe tbody tr th {\n",
       "        vertical-align: top;\n",
       "    }\n",
       "\n",
       "    .dataframe thead th {\n",
       "        text-align: right;\n",
       "    }\n",
       "</style>\n",
       "<table border=\"1\" class=\"dataframe\">\n",
       "  <thead>\n",
       "    <tr style=\"text-align: right;\">\n",
       "      <th></th>\n",
       "      <th>$d$</th>\n",
       "    </tr>\n",
       "  </thead>\n",
       "  <tbody>\n",
       "    <tr>\n",
       "      <th>GaussianSum</th>\n",
       "      <td>2</td>\n",
       "    </tr>\n",
       "    <tr>\n",
       "      <th>GaussianProduct</th>\n",
       "      <td>2</td>\n",
       "    </tr>\n",
       "    <tr>\n",
       "      <th>GSobol</th>\n",
       "      <td>3</td>\n",
       "    </tr>\n",
       "    <tr>\n",
       "      <th>Ishigami</th>\n",
       "      <td>3</td>\n",
       "    </tr>\n",
       "  </tbody>\n",
       "</table>\n",
       "</div>"
      ],
      "text/plain": [
       "                $d$\n",
       "GaussianSum       2\n",
       "GaussianProduct   2\n",
       "GSobol            3\n",
       "Ishigami          3"
      ]
     },
     "execution_count": 4,
     "metadata": {},
     "output_type": "execute_result"
    }
   ],
   "source": [
    "problem_names = [\n",
    "    benchmarkProblem.getName() for benchmarkProblem in benchmarkProblemList\n",
    "]\n",
    "columns = [\"$d$\"]\n",
    "df_problems_list = pd.DataFrame(index=problem_names, columns=columns)\n",
    "for problem in benchmarkProblemList:\n",
    "    name = problem.getName()\n",
    "    d = problem.getInputDistribution().getDimension()\n",
    "    df_problems_list.loc[name] = [int(d)]\n",
    "df_problems_list"
   ]
  },
  {
   "cell_type": "code",
   "execution_count": 5,
   "id": "substantial-kinase",
   "metadata": {},
   "outputs": [],
   "source": [
    "latex_code = df_problems_list.to_latex()\n",
    "text_file = open(\"sensitivity_problems_list.tex\", \"w\")\n",
    "text_file.write(latex_code)\n",
    "text_file.close()"
   ]
  },
  {
   "cell_type": "code",
   "execution_count": null,
   "id": "occasional-bullet",
   "metadata": {},
   "outputs": [],
   "source": []
  }
 ],
 "metadata": {
  "kernelspec": {
   "display_name": "Python 3",
   "language": "python",
   "name": "python3"
  },
  "language_info": {
   "codemirror_mode": {
    "name": "ipython",
    "version": 3
   },
   "file_extension": ".py",
   "mimetype": "text/x-python",
   "name": "python",
   "nbconvert_exporter": "python",
   "pygments_lexer": "ipython3",
   "version": "3.8.6"
  }
 },
 "nbformat": 4,
 "nbformat_minor": 5
}
