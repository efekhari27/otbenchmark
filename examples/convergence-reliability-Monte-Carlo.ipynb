{
 "cells": [
  {
   "cell_type": "markdown",
   "metadata": {},
   "source": [
    "# Convergence of Monte-Carlo to estimate the probability in a reliability problem\n",
    "\n",
    "The goal of this document is to present the convergence of the Monte-Carlo algorithm to the exact probability when the sample size increases. This convergence is expressed in terms of absolute error. We show that the rate of convergence is $O(\\sqrt{n})$, where $n$ is the sample size."
   ]
  },
  {
   "cell_type": "code",
   "execution_count": 1,
   "metadata": {},
   "outputs": [],
   "source": [
    "import openturns as ot\n",
    "import numpy as np\n",
    "import otbenchmark as otb\n",
    "import time"
   ]
  },
  {
   "cell_type": "code",
   "execution_count": 2,
   "metadata": {},
   "outputs": [
    {
     "name": "stdout",
     "output_type": "stream",
     "text": [
      "name = R-S\n",
      "event = class=ThresholdEventImplementation antecedent=class=CompositeRandomVector function=class=Function name=Unnamed implementation=class=FunctionImplementation name=Unnamed description=[R,S,y0] evaluationImplementation=class=SymbolicEvaluation name=Unnamed inputVariablesNames=[R,S] outputVariablesNames=[y0] formulas=[R - S] gradientImplementation=class=SymbolicGradient name=Unnamed evaluation=class=SymbolicEvaluation name=Unnamed inputVariablesNames=[R,S] outputVariablesNames=[y0] formulas=[R - S] hessianImplementation=class=SymbolicHessian name=Unnamed evaluation=class=SymbolicEvaluation name=Unnamed inputVariablesNames=[R,S] outputVariablesNames=[y0] formulas=[R - S] antecedent=class=UsualRandomVector distribution=class=ComposedDistribution name=ComposedDistribution dimension=2 copula=class=IndependentCopula name=IndependentCopula dimension=2 marginal[0]=class=Normal name=Normal dimension=1 mean=class=Point name=Unnamed dimension=1 values=[4] sigma=class=Point name=Unnamed dimension=1 values=[1] correlationMatrix=class=CorrelationMatrix dimension=1 implementation=class=MatrixImplementation name=Unnamed rows=1 columns=1 values=[1] marginal[1]=class=Normal name=Normal dimension=1 mean=class=Point name=Unnamed dimension=1 values=[2] sigma=class=Point name=Unnamed dimension=1 values=[1] correlationMatrix=class=CorrelationMatrix dimension=1 implementation=class=MatrixImplementation name=Unnamed rows=1 columns=1 values=[1] operator=class=Less name=Unnamed threshold=0\n",
      "probability = 0.07864960352514257\n",
      "\n"
     ]
    }
   ],
   "source": [
    "problem = otb.RminusSReliability()\n",
    "print(problem)"
   ]
  },
  {
   "cell_type": "code",
   "execution_count": 3,
   "metadata": {},
   "outputs": [],
   "source": [
    "def ComputeProbabilityFromMonteCarlo(\n",
    "    problem, coefficientOfVariation=0.1, maximumOuterSampling=1000, blockSize=2\n",
    "):\n",
    "    event = problem.getEvent()\n",
    "    g = event.getFunction()\n",
    "    # Create the Monte-Carlo algorithm\n",
    "    algoProb = ot.ProbabilitySimulationAlgorithm(event)\n",
    "    algoProb.setMaximumOuterSampling(maximumOuterSampling)\n",
    "    algoProb.setBlockSize(blockSize)\n",
    "    algoProb.setMaximumCoefficientOfVariation(coefficientOfVariation)\n",
    "    initialNumberOfFunctionEvaluations = g.getEvaluationCallsNumber()\n",
    "    algoProb.run()\n",
    "    # Get the results\n",
    "    resultAlgo = algoProb.getResult()\n",
    "    numberOfFunctionEvaluations = (\n",
    "        g.getEvaluationCallsNumber() - initialNumberOfFunctionEvaluations\n",
    "    )\n",
    "    pf = resultAlgo.getProbabilityEstimate()\n",
    "    level = 0.95\n",
    "    c95 = resultAlgo.getConfidenceLength(level)\n",
    "    pmin = pf - 0.5 * c95\n",
    "    pmax = pf + 0.5 * c95\n",
    "    print(\n",
    "        \"Number of function calls = %d\" % (numberOfFunctionEvaluations),\n",
    "        \", Pf = %.4f\" % (pf),\n",
    "        \", %.1f %% confidence interval :[%.4f,%.4f] \" % (level * 100, pmin, pmax),\n",
    "    )\n",
    "    absoluteError = abs(pf - problem.getProbability())\n",
    "    result = {\n",
    "        \"numberOfFunctionEvaluations\": numberOfFunctionEvaluations,\n",
    "        \"pf\": pf,\n",
    "        \"pmin\": pmin,\n",
    "        \"pmax\": pmax,\n",
    "        \"absoluteError\": absoluteError,\n",
    "    }\n",
    "    return result"
   ]
  },
  {
   "cell_type": "code",
   "execution_count": 4,
   "metadata": {},
   "outputs": [
    {
     "name": "stdout",
     "output_type": "stream",
     "text": [
      "Number of function calls = 1978 , Pf = 0.0713 , 95.0 % confidence interval :[0.0573,0.0852] \n"
     ]
    }
   ],
   "source": [
    "result = ComputeProbabilityFromMonteCarlo(problem)"
   ]
  },
  {
   "cell_type": "code",
   "execution_count": 5,
   "metadata": {},
   "outputs": [],
   "source": [
    "numberOfPoints = 15  # Number of atomic experiments\n",
    "numberOfRepetitions = 10  # Number of repetitions of each experiment\n",
    "sampleSizeAbsoluteErrorTable = ot.Sample(numberOfPoints * numberOfRepetitions, 2)\n",
    "sampleSizeAbsoluteErrorTable.setDescription([\"Sample size\", \"Absolute error\"])"
   ]
  },
  {
   "cell_type": "code",
   "execution_count": 6,
   "metadata": {},
   "outputs": [],
   "source": [
    "cov = 0.0\n",
    "startTime = time.time()"
   ]
  },
  {
   "cell_type": "code",
   "execution_count": 7,
   "metadata": {},
   "outputs": [
    {
     "name": "stdout",
     "output_type": "stream",
     "text": [
      "Number of function calls = 4 , Pf = 0.0000 , 95.0 % confidence interval :[0.0000,0.0000] \n",
      "Number of function calls = 4 , Pf = 0.0000 , 95.0 % confidence interval :[0.0000,0.0000] \n",
      "Number of function calls = 4 , Pf = 0.2500 , 95.0 % confidence interval :[-0.2978,0.7978] \n",
      "Number of function calls = 4 , Pf = 0.5000 , 95.0 % confidence interval :[0.0100,0.9900] \n",
      "Number of function calls = 4 , Pf = 0.0000 , 95.0 % confidence interval :[0.0000,0.0000] \n",
      "Number of function calls = 4 , Pf = 0.0000 , 95.0 % confidence interval :[0.0000,0.0000] \n",
      "Number of function calls = 4 , Pf = 0.0000 , 95.0 % confidence interval :[0.0000,0.0000] \n",
      "Number of function calls = 4 , Pf = 0.0000 , 95.0 % confidence interval :[0.0000,0.0000] \n",
      "Number of function calls = 4 , Pf = 0.0000 , 95.0 % confidence interval :[0.0000,0.0000] \n",
      "Number of function calls = 4 , Pf = 0.0000 , 95.0 % confidence interval :[0.0000,0.0000] \n",
      "Number of function calls = 8 , Pf = 0.0000 , 95.0 % confidence interval :[0.0000,0.0000] \n",
      "Number of function calls = 8 , Pf = 0.1250 , 95.0 % confidence interval :[-0.1623,0.4123] \n",
      "Number of function calls = 8 , Pf = 0.0000 , 95.0 % confidence interval :[0.0000,0.0000] \n",
      "Number of function calls = 8 , Pf = 0.1250 , 95.0 % confidence interval :[-0.1623,0.4123] \n",
      "Number of function calls = 8 , Pf = 0.3750 , 95.0 % confidence interval :[-0.0026,0.7526] \n",
      "Number of function calls = 8 , Pf = 0.2500 , 95.0 % confidence interval :[-0.0501,0.5501] \n",
      "Number of function calls = 8 , Pf = 0.0000 , 95.0 % confidence interval :[0.0000,0.0000] \n",
      "Number of function calls = 8 , Pf = 0.2500 , 95.0 % confidence interval :[-0.1374,0.6374] \n",
      "Number of function calls = 8 , Pf = 0.0000 , 95.0 % confidence interval :[0.0000,0.0000] \n",
      "Number of function calls = 8 , Pf = 0.1250 , 95.0 % confidence interval :[-0.1623,0.4123] \n",
      "Number of function calls = 16 , Pf = 0.1250 , 95.0 % confidence interval :[-0.0781,0.3281] \n",
      "Number of function calls = 16 , Pf = 0.0625 , 95.0 % confidence interval :[-0.0844,0.2094] \n",
      "Number of function calls = 16 , Pf = 0.0625 , 95.0 % confidence interval :[-0.0844,0.2094] \n",
      "Number of function calls = 16 , Pf = 0.0625 , 95.0 % confidence interval :[-0.0844,0.2094] \n",
      "Number of function calls = 16 , Pf = 0.0625 , 95.0 % confidence interval :[-0.0844,0.2094] \n",
      "Number of function calls = 16 , Pf = 0.1250 , 95.0 % confidence interval :[-0.0370,0.2870] \n",
      "Number of function calls = 16 , Pf = 0.0625 , 95.0 % confidence interval :[-0.0844,0.2094] \n",
      "Number of function calls = 16 , Pf = 0.0625 , 95.0 % confidence interval :[-0.0844,0.2094] \n",
      "Number of function calls = 16 , Pf = 0.1250 , 95.0 % confidence interval :[-0.0781,0.3281] \n",
      "Number of function calls = 16 , Pf = 0.0000 , 95.0 % confidence interval :[0.0000,0.0000] \n",
      "Number of function calls = 32 , Pf = 0.0312 , 95.0 % confidence interval :[-0.0430,0.1055] \n",
      "Number of function calls = 32 , Pf = 0.0938 , 95.0 % confidence interval :[-0.0321,0.2196] \n",
      "Number of function calls = 32 , Pf = 0.0625 , 95.0 % confidence interval :[-0.0414,0.1664] \n",
      "Number of function calls = 32 , Pf = 0.0938 , 95.0 % confidence interval :[-0.0321,0.2196] \n",
      "Number of function calls = 32 , Pf = 0.0000 , 95.0 % confidence interval :[0.0000,0.0000] \n",
      "Number of function calls = 32 , Pf = 0.1875 , 95.0 % confidence interval :[0.0390,0.3360] \n",
      "Number of function calls = 32 , Pf = 0.0938 , 95.0 % confidence interval :[-0.0321,0.2196] \n",
      "Number of function calls = 32 , Pf = 0.1562 , 95.0 % confidence interval :[-0.0025,0.3150] \n",
      "Number of function calls = 32 , Pf = 0.0625 , 95.0 % confidence interval :[-0.0414,0.1664] \n",
      "Number of function calls = 32 , Pf = 0.1250 , 95.0 % confidence interval :[-0.0186,0.2686] \n",
      "Number of function calls = 64 , Pf = 0.0781 , 95.0 % confidence interval :[-0.0035,0.1598] \n",
      "Number of function calls = 64 , Pf = 0.0938 , 95.0 % confidence interval :[0.0048,0.1827] \n",
      "Number of function calls = 64 , Pf = 0.0469 , 95.0 % confidence interval :[-0.0171,0.1108] \n",
      "Number of function calls = 64 , Pf = 0.1562 , 95.0 % confidence interval :[0.0440,0.2685] \n",
      "Number of function calls = 64 , Pf = 0.0938 , 95.0 % confidence interval :[0.0048,0.1827] \n",
      "Number of function calls = 64 , Pf = 0.0469 , 95.0 % confidence interval :[-0.0171,0.1108] \n",
      "Number of function calls = 64 , Pf = 0.1719 , 95.0 % confidence interval :[0.0589,0.2849] \n",
      "Number of function calls = 64 , Pf = 0.0781 , 95.0 % confidence interval :[0.0024,0.1538] \n",
      "Number of function calls = 64 , Pf = 0.0938 , 95.0 % confidence interval :[0.0102,0.1773] \n",
      "Number of function calls = 64 , Pf = 0.0469 , 95.0 % confidence interval :[-0.0171,0.1108] \n",
      "Number of function calls = 128 , Pf = 0.1094 , 95.0 % confidence interval :[0.0418,0.1769] \n",
      "Number of function calls = 128 , Pf = 0.0312 , 95.0 % confidence interval :[-0.0059,0.0684] \n",
      "Number of function calls = 128 , Pf = 0.1250 , 95.0 % confidence interval :[0.0548,0.1952] \n",
      "Number of function calls = 128 , Pf = 0.0312 , 95.0 % confidence interval :[-0.0059,0.0684] \n",
      "Number of function calls = 128 , Pf = 0.0469 , 95.0 % confidence interval :[0.0017,0.0921] \n",
      "Number of function calls = 128 , Pf = 0.0391 , 95.0 % confidence interval :[-0.0023,0.0804] \n",
      "Number of function calls = 128 , Pf = 0.0859 , 95.0 % confidence interval :[0.0275,0.1444] \n",
      "Number of function calls = 128 , Pf = 0.1172 , 95.0 % confidence interval :[0.0492,0.1852] \n",
      "Number of function calls = 128 , Pf = 0.0703 , 95.0 % confidence interval :[0.0154,0.1252] \n",
      "Number of function calls = 128 , Pf = 0.1016 , 95.0 % confidence interval :[0.0381,0.1650] \n",
      "Number of function calls = 256 , Pf = 0.0820 , 95.0 % confidence interval :[0.0417,0.1224] \n",
      "Number of function calls = 256 , Pf = 0.0859 , 95.0 % confidence interval :[0.0432,0.1286] \n",
      "Number of function calls = 256 , Pf = 0.0781 , 95.0 % confidence interval :[0.0373,0.1190] \n",
      "Number of function calls = 256 , Pf = 0.0625 , 95.0 % confidence interval :[0.0266,0.0984] \n",
      "Number of function calls = 256 , Pf = 0.0781 , 95.0 % confidence interval :[0.0380,0.1182] \n",
      "Number of function calls = 256 , Pf = 0.0352 , 95.0 % confidence interval :[0.0074,0.0630] \n",
      "Number of function calls = 256 , Pf = 0.0664 , 95.0 % confidence interval :[0.0302,0.1026] \n",
      "Number of function calls = 256 , Pf = 0.0547 , 95.0 % confidence interval :[0.0202,0.0891] \n",
      "Number of function calls = 256 , Pf = 0.0625 , 95.0 % confidence interval :[0.0258,0.0992] \n",
      "Number of function calls = 256 , Pf = 0.0703 , 95.0 % confidence interval :[0.0315,0.1092] \n",
      "Number of function calls = 512 , Pf = 0.0723 , 95.0 % confidence interval :[0.0450,0.0996] \n",
      "Number of function calls = 512 , Pf = 0.0605 , 95.0 % confidence interval :[0.0358,0.0852] \n",
      "Number of function calls = 512 , Pf = 0.0996 , 95.0 % confidence interval :[0.0686,0.1306] \n",
      "Number of function calls = 512 , Pf = 0.0938 , 95.0 % confidence interval :[0.0628,0.1247] \n",
      "Number of function calls = 512 , Pf = 0.0742 , 95.0 % confidence interval :[0.0471,0.1013] \n",
      "Number of function calls = 512 , Pf = 0.0723 , 95.0 % confidence interval :[0.0450,0.0996] \n",
      "Number of function calls = 512 , Pf = 0.0684 , 95.0 % confidence interval :[0.0415,0.0952] \n",
      "Number of function calls = 512 , Pf = 0.0859 , 95.0 % confidence interval :[0.0565,0.1154] \n",
      "Number of function calls = 512 , Pf = 0.0938 , 95.0 % confidence interval :[0.0628,0.1247] \n",
      "Number of function calls = 512 , Pf = 0.0566 , 95.0 % confidence interval :[0.0322,0.0811] \n",
      "Number of function calls = 1024 , Pf = 0.0713 , 95.0 % confidence interval :[0.0519,0.0906] \n",
      "Number of function calls = 1024 , Pf = 0.0791 , 95.0 % confidence interval :[0.0588,0.0994] \n",
      "Number of function calls = 1024 , Pf = 0.0850 , 95.0 % confidence interval :[0.0638,0.1061] \n",
      "Number of function calls = 1024 , Pf = 0.0850 , 95.0 % confidence interval :[0.0640,0.1059] \n",
      "Number of function calls = 1024 , Pf = 0.0830 , 95.0 % confidence interval :[0.0625,0.1035] \n",
      "Number of function calls = 1024 , Pf = 0.0869 , 95.0 % confidence interval :[0.0658,0.1080] \n",
      "Number of function calls = 1024 , Pf = 0.0869 , 95.0 % confidence interval :[0.0657,0.1081] \n",
      "Number of function calls = 1024 , Pf = 0.0771 , 95.0 % confidence interval :[0.0570,0.0973] \n",
      "Number of function calls = 1024 , Pf = 0.0830 , 95.0 % confidence interval :[0.0622,0.1038] \n",
      "Number of function calls = 1024 , Pf = 0.0742 , 95.0 % confidence interval :[0.0546,0.0939] \n",
      "Number of function calls = 2048 , Pf = 0.0840 , 95.0 % confidence interval :[0.0693,0.0987] \n",
      "Number of function calls = 2048 , Pf = 0.0864 , 95.0 % confidence interval :[0.0716,0.1013] \n"
     ]
    },
    {
     "name": "stdout",
     "output_type": "stream",
     "text": [
      "Number of function calls = 2048 , Pf = 0.0894 , 95.0 % confidence interval :[0.0743,0.1044] \n",
      "Number of function calls = 2048 , Pf = 0.0864 , 95.0 % confidence interval :[0.0715,0.1014] \n",
      "Number of function calls = 2048 , Pf = 0.0757 , 95.0 % confidence interval :[0.0618,0.0896] \n",
      "Number of function calls = 2048 , Pf = 0.0781 , 95.0 % confidence interval :[0.0638,0.0925] \n",
      "Number of function calls = 2048 , Pf = 0.0786 , 95.0 % confidence interval :[0.0643,0.0930] \n",
      "Number of function calls = 2048 , Pf = 0.0747 , 95.0 % confidence interval :[0.0609,0.0885] \n",
      "Number of function calls = 2048 , Pf = 0.0674 , 95.0 % confidence interval :[0.0542,0.0806] \n",
      "Number of function calls = 2048 , Pf = 0.0796 , 95.0 % confidence interval :[0.0653,0.0938] \n",
      "Number of function calls = 4096 , Pf = 0.0735 , 95.0 % confidence interval :[0.0637,0.0833] \n",
      "Number of function calls = 4096 , Pf = 0.0774 , 95.0 % confidence interval :[0.0674,0.0874] \n",
      "Number of function calls = 4096 , Pf = 0.0825 , 95.0 % confidence interval :[0.0722,0.0929] \n",
      "Number of function calls = 4096 , Pf = 0.0764 , 95.0 % confidence interval :[0.0665,0.0863] \n",
      "Number of function calls = 4096 , Pf = 0.0815 , 95.0 % confidence interval :[0.0713,0.0918] \n",
      "Number of function calls = 4096 , Pf = 0.0791 , 95.0 % confidence interval :[0.0689,0.0893] \n",
      "Number of function calls = 4096 , Pf = 0.0784 , 95.0 % confidence interval :[0.0682,0.0885] \n",
      "Number of function calls = 4096 , Pf = 0.0740 , 95.0 % confidence interval :[0.0641,0.0838] \n",
      "Number of function calls = 4096 , Pf = 0.0747 , 95.0 % confidence interval :[0.0649,0.0845] \n",
      "Number of function calls = 4096 , Pf = 0.0815 , 95.0 % confidence interval :[0.0712,0.0918] \n",
      "Number of function calls = 8192 , Pf = 0.0782 , 95.0 % confidence interval :[0.0711,0.0854] \n",
      "Number of function calls = 8192 , Pf = 0.0781 , 95.0 % confidence interval :[0.0710,0.0852] \n",
      "Number of function calls = 8192 , Pf = 0.0770 , 95.0 % confidence interval :[0.0700,0.0841] \n",
      "Number of function calls = 8192 , Pf = 0.0768 , 95.0 % confidence interval :[0.0697,0.0838] \n",
      "Number of function calls = 8192 , Pf = 0.0745 , 95.0 % confidence interval :[0.0675,0.0815] \n",
      "Number of function calls = 8192 , Pf = 0.0780 , 95.0 % confidence interval :[0.0709,0.0851] \n",
      "Number of function calls = 8192 , Pf = 0.0797 , 95.0 % confidence interval :[0.0725,0.0869] \n",
      "Number of function calls = 8192 , Pf = 0.0797 , 95.0 % confidence interval :[0.0725,0.0869] \n",
      "Number of function calls = 8192 , Pf = 0.0760 , 95.0 % confidence interval :[0.0690,0.0831] \n",
      "Number of function calls = 8192 , Pf = 0.0818 , 95.0 % confidence interval :[0.0745,0.0891] \n",
      "Number of function calls = 16384 , Pf = 0.0825 , 95.0 % confidence interval :[0.0773,0.0876] \n",
      "Number of function calls = 16384 , Pf = 0.0812 , 95.0 % confidence interval :[0.0761,0.0863] \n",
      "Number of function calls = 16384 , Pf = 0.0760 , 95.0 % confidence interval :[0.0710,0.0810] \n",
      "Number of function calls = 16384 , Pf = 0.0790 , 95.0 % confidence interval :[0.0740,0.0841] \n",
      "Number of function calls = 16384 , Pf = 0.0793 , 95.0 % confidence interval :[0.0743,0.0844] \n",
      "Number of function calls = 16384 , Pf = 0.0806 , 95.0 % confidence interval :[0.0755,0.0857] \n",
      "Number of function calls = 16384 , Pf = 0.0785 , 95.0 % confidence interval :[0.0735,0.0835] \n",
      "Number of function calls = 16384 , Pf = 0.0779 , 95.0 % confidence interval :[0.0729,0.0830] \n",
      "Number of function calls = 16384 , Pf = 0.0786 , 95.0 % confidence interval :[0.0736,0.0837] \n",
      "Number of function calls = 16384 , Pf = 0.0750 , 95.0 % confidence interval :[0.0701,0.0799] \n",
      "Number of function calls = 32768 , Pf = 0.0772 , 95.0 % confidence interval :[0.0737,0.0808] \n",
      "Number of function calls = 32768 , Pf = 0.0766 , 95.0 % confidence interval :[0.0731,0.0801] \n",
      "Number of function calls = 32768 , Pf = 0.0796 , 95.0 % confidence interval :[0.0760,0.0832] \n",
      "Number of function calls = 32768 , Pf = 0.0802 , 95.0 % confidence interval :[0.0766,0.0838] \n",
      "Number of function calls = 32768 , Pf = 0.0796 , 95.0 % confidence interval :[0.0760,0.0831] \n",
      "Number of function calls = 32768 , Pf = 0.0772 , 95.0 % confidence interval :[0.0737,0.0807] \n",
      "Number of function calls = 32768 , Pf = 0.0786 , 95.0 % confidence interval :[0.0750,0.0822] \n",
      "Number of function calls = 32768 , Pf = 0.0778 , 95.0 % confidence interval :[0.0743,0.0814] \n",
      "Number of function calls = 32768 , Pf = 0.0810 , 95.0 % confidence interval :[0.0774,0.0846] \n",
      "Number of function calls = 32768 , Pf = 0.0808 , 95.0 % confidence interval :[0.0772,0.0844] \n",
      "Number of function calls = 65536 , Pf = 0.0790 , 95.0 % confidence interval :[0.0765,0.0815] \n",
      "Number of function calls = 65536 , Pf = 0.0774 , 95.0 % confidence interval :[0.0749,0.0799] \n",
      "Number of function calls = 65536 , Pf = 0.0786 , 95.0 % confidence interval :[0.0761,0.0812] \n",
      "Number of function calls = 65536 , Pf = 0.0781 , 95.0 % confidence interval :[0.0756,0.0807] \n",
      "Number of function calls = 65536 , Pf = 0.0793 , 95.0 % confidence interval :[0.0767,0.0818] \n",
      "Number of function calls = 65536 , Pf = 0.0793 , 95.0 % confidence interval :[0.0768,0.0818] \n",
      "Number of function calls = 65536 , Pf = 0.0806 , 95.0 % confidence interval :[0.0781,0.0832] \n",
      "Number of function calls = 65536 , Pf = 0.0784 , 95.0 % confidence interval :[0.0759,0.0810] \n",
      "Number of function calls = 65536 , Pf = 0.0783 , 95.0 % confidence interval :[0.0758,0.0808] \n",
      "Number of function calls = 65536 , Pf = 0.0789 , 95.0 % confidence interval :[0.0763,0.0814] \n"
     ]
    }
   ],
   "source": [
    "maximumOuterSampling = 1\n",
    "index = 0\n",
    "for i in range(numberOfPoints):\n",
    "    maximumOuterSampling *= 2\n",
    "    for j in range(numberOfRepetitions):\n",
    "        result = ComputeProbabilityFromMonteCarlo(\n",
    "            problem,\n",
    "            coefficientOfVariation=cov,\n",
    "            maximumOuterSampling=maximumOuterSampling,\n",
    "        )\n",
    "        sampleSizeAbsoluteErrorTable[index, 0] = result[\"numberOfFunctionEvaluations\"]\n",
    "        sampleSizeAbsoluteErrorTable[index, 1] = result[\"absoluteError\"]\n",
    "        index += 1"
   ]
  },
  {
   "cell_type": "code",
   "execution_count": 8,
   "metadata": {},
   "outputs": [
    {
     "name": "stdout",
     "output_type": "stream",
     "text": [
      "Elapsed = 2.85 (s)\n"
     ]
    }
   ],
   "source": [
    "elapsedTime = time.time() - startTime\n",
    "print(\"Elapsed = %.2f (s)\" % (elapsedTime))"
   ]
  },
  {
   "cell_type": "code",
   "execution_count": 9,
   "metadata": {},
   "outputs": [],
   "source": [
    "sampleSizeArray = [int(n) for n in np.logspace(0.0, 5.0)]\n",
    "expectedConvergence = [1.0 / np.sqrt(n) for n in sampleSizeArray]"
   ]
  },
  {
   "cell_type": "code",
   "execution_count": 10,
   "metadata": {},
   "outputs": [
    {
     "data": {
      "image/png": "[encoded data removed]",
      "text/plain": [
       "class=Graph name=Convergence of Monte-Carlo method - problem = R-S implementation=class=GraphImplementation name=Convergence of Monte-Carlo method - problem = R-S title=Convergence of Monte-Carlo method - problem = R-S xTitle=Sample size yTitle=Absolute error axes=ON grid=ON legendposition=topright legendFontSize=1 drawables=[class=Drawable name=Unnamed implementation=class=Cloud name=Unnamed derived from class=DrawableImplementation name=Unnamed legend=Monte-Carlo data=class=Sample name=Unnamed implementation=class=SampleImplementation name=Unnamed size=150 dimension=2 description=[Sample size,Absolute error] data=[[4,0.0786496],[4,0.0786496],[4,0.17135],[4,0.42135],[4,0.0786496],[4,0.0786496],[4,0.0786496],[4,0.0786496],[4,0.0786496],[4,0.0786496],[8,0.0786496],[8,0.0463504],[8,0.0786496],[8,0.0463504],[8,0.29635],[8,0.17135],[8,0.0786496],[8,0.17135],[8,0.0786496],[8,0.0463504],[16,0.0463504],[16,0.0161496],[16,0.0161496],[16,0.0161496],[16,0.0161496],[16,0.0463504],[16,0.0161496],[16,0.0161496],[16,0.0463504],[16,0.0786496],[32,0.0473996],[32,0.0151004],[32,0.0161496],[32,0.0151004],[32,0.0786496],[32,0.10885],[32,0.0151004],[32,0.0776004],[32,0.0161496],[32,0.0463504],[64,0.000524604],[64,0.0151004],[64,0.0317746],[64,0.0776004],[64,0.0151004],[64,0.0317746],[64,0.0932254],[64,0.000524604],[64,0.0151004],[64,0.0317746],[128,0.0307254],[128,0.0473996],[128,0.0463504],[128,0.0473996],[128,0.0317746],[128,0.0395871],[128,0.0072879],[128,0.0385379],[128,0.0083371],[128,0.0229129],[256,0.00338165],[256,0.0072879],[256,0.000524604],[256,0.0161496],[256,0.000524604],[256,0.0434934],[256,0.0122434],[256,0.0239621],[256,0.0161496],[256,0.0083371],[512,0.00638398],[512,0.0181027],[512,0.0209598],[512,0.0151004],[512,0.00443085],[512,0.00638398],[512,0.0102902],[512,0.0072879],[512,0.0151004],[512,0.022009],[1024,0.00736054],[1024,0.000451959],[1024,0.00631133],[1024,0.00631133],[1024,0.00435821],[1024,0.00826446],[1024,0.00826446],[1024,0.00150117],[1024,0.00435821],[1024,0.00443085],[2048,0.00533477],[2048,0.00777618],[2048,0.0107059],[2048,0.00777618],[2048,0.00296601],[2048,0.000524604],[2048,3.63223e-05],[2048,0.00394257],[2048,0.0112668],[2048,0.00094024],[4096,0.00516328],[4096,0.00125703],[4096,0.00386993],[4096,0.00223359],[4096,0.00289337],[4096,0.000451959],[4096,0.000280463],[4096,0.00467499],[4096,0.00394257],[4096,0.00289337],[8192,0.000402533],[8192,0.000524604],[8192,0.00162324],[8192,0.00186738],[8192,0.00418671],[8192,0.000646674],[8192,0.00106231],[8192,0.00106231],[8192,0.0025998],[8192,0.00313751],[16384,0.00380889],[16384,0.00252715],[16384,0.00266083],[16384,0.000390924],[16384,0.0006961],[16384,0.0019168],[16384,0.000158393],[16384,0.000707709],[16384,3.63223e-05],[16384,0.0036374],[32768,0.00140961],[32768,0.00205048],[32768,0.00094024],[32768,0.00155059],[32768,0.000909723],[32768,0.00144013],[32768,3.63223e-05],[32768,0.000829779],[32768,0.00234405],[32768,0.00216094],[65536,0.000360406],[65536,0.00121125],[65536,5.8047e-06],[65536,0.000509345],[65536,0.000619806],[65536,0.000650323],[65536,0.0019931],[65536,0.000204169],[65536,0.000326239],[65536,0.000223077]] color=dodgerblue3 fillStyle=solid lineStyle=solid pointStyle=fsquare lineWidth=1,class=Drawable name=Unnamed implementation=class=Curve name=Unnamed derived from class=DrawableImplementation name=Unnamed legend=$1/\\sqrt{n}$ data=class=Sample name=Unnamed implementation=class=SampleImplementation name=Unnamed size=50 dimension=2 data=[[1,1],[1,1],[1,1],[2,0.707107],[2,0.707107],[3,0.57735],[4,0.5],[5,0.447214],[6,0.408248],[8,0.353553],[10,0.316228],[13,0.27735],[16,0.25],[21,0.218218],[26,0.196116],[33,0.174078],[42,0.154303],[54,0.136083],[68,0.121268],[86,0.107833],[109,0.0957826],[138,0.0851257],[175,0.0755929],[222,0.0671156],[281,0.059655],[355,0.0530745],[449,0.0471929],[568,0.0419591],[719,0.0372937],[910,0.0331497],[1151,0.0294756],[1456,0.0262071],[1842,0.0233],[2329,0.0207212],[2947,0.0184209],[3727,0.0163802],[4714,0.0145648],[5963,0.0129499],[7543,0.011514],[9540,0.0102383],[12067,0.00910333],[15264,0.00809405],[19306,0.00719704],[24420,0.00639922],[30888,0.00568991],[39069,0.00505922],[49417,0.00449844],[62505,0.00399984],[79060,0.00355649],[100000,0.00316228]] color=darkorange1 fillStyle=solid lineStyle=solid pointStyle=none lineWidth=1]"
      ]
     },
     "execution_count": 10,
     "metadata": {},
     "output_type": "execute_result"
    }
   ],
   "source": [
    "title = \"Convergence of Monte-Carlo method - problem = %s\" % (problem.getName())\n",
    "graph = ot.Graph(title, \"Sample size\", \"Absolute error\", True, \"topright\")\n",
    "curve = ot.Cloud(sampleSizeAbsoluteErrorTable, \"blue\", \"fsquare\", \"\")\n",
    "curve.setLegend(\"Monte-Carlo\")\n",
    "graph.add(curve)\n",
    "curve = ot.Curve(sampleSizeArray, expectedConvergence)\n",
    "curve.setLegend(r\"$1/\\sqrt{n}$\")\n",
    "graph.add(curve)\n",
    "graph.setLogScale(ot.GraphImplementation.LOGXY)\n",
    "graph.setColors([\"dodgerblue3\", \"darkorange1\"])\n",
    "graph"
   ]
  },
  {
   "cell_type": "code",
   "execution_count": null,
   "metadata": {},
   "outputs": [],
   "source": []
  }
 ],
 "metadata": {
  "kernelspec": {
   "display_name": "Python 3",
   "language": "python",
   "name": "python3"
  },
  "language_info": {
   "codemirror_mode": {
    "name": "ipython",
    "version": 3
   },
   "file_extension": ".py",
   "mimetype": "text/x-python",
   "name": "python",
   "nbconvert_exporter": "python",
   "pygments_lexer": "ipython3",
   "version": "3.7.6"
  }
 },
 "nbformat": 4,
 "nbformat_minor": 2
}
